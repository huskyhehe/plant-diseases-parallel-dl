{
 "cells": [
  {
   "cell_type": "code",
   "execution_count": 1,
   "id": "8926de99-748f-456c-a716-11cd10db3c5d",
   "metadata": {},
   "outputs": [
    {
     "name": "stdout",
     "output_type": "stream",
     "text": [
      "Tue Dec 12 00:57:07 2023       \n",
      "+---------------------------------------------------------------------------------------+\n",
      "| NVIDIA-SMI 535.104.05             Driver Version: 535.104.05   CUDA Version: 12.2     |\n",
      "|-----------------------------------------+----------------------+----------------------+\n",
      "| GPU  Name                 Persistence-M | Bus-Id        Disp.A | Volatile Uncorr. ECC |\n",
      "| Fan  Temp   Perf          Pwr:Usage/Cap |         Memory-Usage | GPU-Util  Compute M. |\n",
      "|                                         |                      |               MIG M. |\n",
      "|=========================================+======================+======================|\n",
      "|   0  Tesla T4                       Off | 00000000:3B:00.0 Off |                    0 |\n",
      "| N/A   49C    P0              28W /  70W |      2MiB / 15360MiB |      7%      Default |\n",
      "|                                         |                      |                  N/A |\n",
      "+-----------------------------------------+----------------------+----------------------+\n",
      "                                                                                         \n",
      "+---------------------------------------------------------------------------------------+\n",
      "| Processes:                                                                            |\n",
      "|  GPU   GI   CI        PID   Type   Process name                            GPU Memory |\n",
      "|        ID   ID                                                             Usage      |\n",
      "|=======================================================================================|\n",
      "|  No running processes found                                                           |\n",
      "+---------------------------------------------------------------------------------------+\n"
     ]
    }
   ],
   "source": [
    "!nvidia-smi"
   ]
  },
  {
   "cell_type": "code",
   "execution_count": 2,
   "id": "c944415a-0e66-4846-976f-483402a815fd",
   "metadata": {},
   "outputs": [
    {
     "name": "stdout",
     "output_type": "stream",
     "text": [
      "CPU:\n",
      "  CPU: Intel(R) Xeon(R) Gold 6240 CPU @ 2.60GHz\n",
      "  Architecture: X86_64\n",
      "CUDA available\n",
      "Running on 1 GPU with 4 processes----------------------------\n",
      "Epoch [1/5]------------------------------------------------------------------------\n",
      "| Train Loss: 2.6422 | Train Acc: 0.3406 | Val Loss: 2.2021, Val Acc: 0.4074\n",
      "| Elapsed Time: 223.4081 s | Max GPU Memory Alloc: 1960.8457 MB\n",
      "Epoch [2/5]------------------------------------------------------------------------\n",
      "| Train Loss: 2.0209 | Train Acc: 0.4719 | Val Loss: 1.7971, Val Acc: 0.5216\n",
      "| Elapsed Time: 222.7155 s | Max GPU Memory Alloc: 1960.8472 MB\n",
      "Epoch [3/5]------------------------------------------------------------------------\n",
      "| Train Loss: 1.8274 | Train Acc: 0.5141 | Val Loss: 1.6481, Val Acc: 0.5436\n",
      "| Elapsed Time: 223.5448 s | Max GPU Memory Alloc: 1960.8481 MB\n",
      "Epoch [4/5]------------------------------------------------------------------------\n",
      "| Train Loss: 1.2209 | Train Acc: 0.6451 | Val Loss: 1.2316, Val Acc: 0.6412\n",
      "| Elapsed Time: 220.5944 s | Max GPU Memory Alloc: 1960.8491 MB\n",
      "Epoch [5/5]------------------------------------------------------------------------\n",
      "| Train Loss: 1.2085 | Train Acc: 0.6483 | Val Loss: 1.2196, Val Acc: 0.6451\n",
      "| Elapsed Time: 223.2077 s | Max GPU Memory Alloc: 1960.8501 MB\n",
      "\n",
      "total_time: 1114.2051734924316\n",
      "best_valid_acc: 0.6450603232415206\n",
      "train_loss: [2.642194299386622, 2.0208991153471203, 1.8274293835346813, 1.2208642493566932, 1.2085188906161841]\n",
      "train_acc: [tensor(0.3406, device='cuda:0', dtype=torch.float64), tensor(0.4719, device='cuda:0', dtype=torch.float64), tensor(0.5141, device='cuda:0', dtype=torch.float64), tensor(0.6451, device='cuda:0', dtype=torch.float64), tensor(0.6483, device='cuda:0', dtype=torch.float64)]\n",
      "valid_loss: [2.2020997007099936, 1.797089404257126, 1.64809937371145, 1.231584107797129, 1.2195817719972841]\n",
      "valid_acc: [tensor(0.4074, device='cuda:0', dtype=torch.float64), tensor(0.5216, device='cuda:0', dtype=torch.float64), tensor(0.5436, device='cuda:0', dtype=torch.float64), tensor(0.6412, device='cuda:0', dtype=torch.float64), tensor(0.6451, device='cuda:0', dtype=torch.float64)]\n",
      "epo_elapsed_time: [223.40809202194214, 222.71546244621277, 223.5448455810547, 220.59438300132751, 223.20766496658325]\n",
      "max_alloc: [1960.845703125, 1960.84716796875, 1960.84814453125, 1960.84912109375, 1960.85009765625]\n",
      "Figure(1200x500)\n",
      "Figure(7200x3000)\n"
     ]
    }
   ],
   "source": [
    "!python p4_2_2__process_main.py --num_workers 4 --num_epochs 5"
   ]
  },
  {
   "cell_type": "code",
   "execution_count": null,
   "id": "657657d4-e576-4885-bf2d-e73d3e177174",
   "metadata": {},
   "outputs": [],
   "source": []
  }
 ],
 "metadata": {
  "kernelspec": {
   "display_name": "Python 3 (ipykernel)",
   "language": "python",
   "name": "python3"
  },
  "language_info": {
   "codemirror_mode": {
    "name": "ipython",
    "version": 3
   },
   "file_extension": ".py",
   "mimetype": "text/x-python",
   "name": "python",
   "nbconvert_exporter": "python",
   "pygments_lexer": "ipython3",
   "version": "3.9.12"
  }
 },
 "nbformat": 4,
 "nbformat_minor": 5
}
