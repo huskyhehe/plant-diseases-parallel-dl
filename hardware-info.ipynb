{
 "cells": [
  {
   "cell_type": "code",
   "execution_count": 1,
   "id": "7d83b636-896d-47d0-b64f-118f2ca02c67",
   "metadata": {},
   "outputs": [],
   "source": [
    "import platform\n",
    "import cpuinfo\n",
    "import psutil\n",
    "import GPUtil\n",
    "\n",
    "def display_sys_info():\n",
    "    print(\"System\")\n",
    "    print(f\"  OS: {platform.system()} {platform.version()}\")\n",
    "\n",
    "def display_cpu_info():\n",
    "    info = cpuinfo.get_cpu_info()\n",
    "    virtual_memory = psutil.virtual_memory()\n",
    "    print(\"\\nCPU\")\n",
    "    print(f\"  CPU: {info['brand_raw']}\")\n",
    "    print(f\"  Architecture: {info['arch']}\")\n",
    "    print(f\"  CPU Count: {info['count']}\")\n",
    "    print(f\"  CPU Speed: {info['hz_actual_friendly']}\")\n",
    "    print(f\"   Memory Total: {virtual_memory.total / (1024 ** 3):.2f} GB\")\n",
    "\n",
    "def display_gpu_info():\n",
    "    gpus = GPUtil.getGPUs()\n",
    "    print(\"\\nCPU:\")\n",
    "    print(f\"  GPU count: {len(gpus)}\")\n",
    "\n",
    "    for gpu in gpus:\n",
    "        memory_total_gb = gpu.memoryTotal / 1024\n",
    "        memory_free_gb = gpu.memoryFree / 1024\n",
    "        print(f\"  Name: {gpu.name}, Memory Total: {memory_total_gb:.2f} GB, Memory Free: {memory_free_gb:.2f} GB\")\n",
    "\n",
    "display_sys_info()\n",
    "display_cpu_info()\n",
    "display_gpu_info()"
   ]
  }
 ],
 "metadata": {
  "kernelspec": {
   "display_name": "Python 3 (ipykernel)",
   "language": "python",
   "name": "python3"
  },
  "language_info": {
   "codemirror_mode": {
    "name": "ipython",
    "version": 3
   },
   "file_extension": ".py",
   "mimetype": "text/x-python",
   "name": "python",
   "nbconvert_exporter": "python",
   "pygments_lexer": "ipython3",
   "version": "3.9.12"
  }
 },
 "nbformat": 4,
 "nbformat_minor": 5
}
