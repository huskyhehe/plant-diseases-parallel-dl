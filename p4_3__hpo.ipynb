{
 "cells": [
  {
   "cell_type": "code",
   "execution_count": 1,
   "id": "0e8e8cb6-bef4-45c8-bd3c-8fb1d2fae336",
   "metadata": {},
   "outputs": [
    {
     "name": "stdout",
     "output_type": "stream",
     "text": [
      "Wed Dec  6 16:09:33 2023       \n",
      "+---------------------------------------------------------------------------------------+\n",
      "| NVIDIA-SMI 530.30.02              Driver Version: 530.30.02    CUDA Version: 12.1     |\n",
      "|-----------------------------------------+----------------------+----------------------+\n",
      "| GPU  Name                  Persistence-M| Bus-Id        Disp.A | Volatile Uncorr. ECC |\n",
      "| Fan  Temp  Perf            Pwr:Usage/Cap|         Memory-Usage | GPU-Util  Compute M. |\n",
      "|                                         |                      |               MIG M. |\n",
      "|=========================================+======================+======================|\n",
      "|   0  Tesla P100-PCIE-12GB            Off| 00000000:03:00.0 Off |                    0 |\n",
      "| N/A   49C    P0               26W / 250W|      0MiB / 12288MiB |      1%      Default |\n",
      "|                                         |                      |                  N/A |\n",
      "+-----------------------------------------+----------------------+----------------------+\n",
      "                                                                                         \n",
      "+---------------------------------------------------------------------------------------+\n",
      "| Processes:                                                                            |\n",
      "|  GPU   GI   CI        PID   Type   Process name                            GPU Memory |\n",
      "|        ID   ID                                                             Usage      |\n",
      "|=======================================================================================|\n",
      "|  No running processes found                                                           |\n",
      "+---------------------------------------------------------------------------------------+\n"
     ]
    }
   ],
   "source": [
    "!nvidia-smi"
   ]
  },
  {
   "cell_type": "code",
   "execution_count": 2,
   "id": "2875851b-a99c-4a03-be0e-fcc6d08075bc",
   "metadata": {},
   "outputs": [
    {
     "name": "stdout",
     "output_type": "stream",
     "text": [
      "/home/zhou.he1/final/p4_3__hpo_main.py:92: ExperimentalWarning: JournalStorage is experimental (supported from v3.1.0). The interface can change in the future.\n",
      "  storage = JournalStorage(JournalFileStorage(\"./journal.log\"))\n",
      "\u001b[32m[I 2023-12-06 16:09:52,892]\u001b[0m A new study created in Journal with name: no-name-7d342c05-8820-42c5-a553-1d1c6526b429\u001b[0m\n",
      "Trial 0 starts--------------------------------------------------\n",
      "\u001b[32m[I 2023-12-06 16:12:45,339]\u001b[0m Trial 0 finished with value: 0.20060323178768158 and parameters: {'lr_rate': 0.00031489116479568613, 'step_size': 10, 'weight_decay': 0.0008471801418819979, 'momentum': 0.9498658484197037}. Best is trial 0 with value: 0.20060323178768158.\u001b[0m\n",
      "Best value: 0.20060323178768158, Best params: {'lr_rate': 0.00031489116479568613, 'step_size': 10, 'weight_decay': 0.0008471801418819979, 'momentum': 0.9498658484197037}\n",
      "Trial 1 starts--------------------------------------------------\n",
      "\u001b[32m[I 2023-12-06 16:15:34,792]\u001b[0m Trial 1 finished with value: 0.12804462015628815 and parameters: {'lr_rate': 4.207988669606632e-05, 'step_size': 4, 'weight_decay': 1.7073967431528114e-06, 'momentum': 0.9766176145774935}. Best is trial 0 with value: 0.20060323178768158.\u001b[0m\n",
      "Best value: 0.20060323178768158, Best params: {'lr_rate': 0.00031489116479568613, 'step_size': 10, 'weight_decay': 0.0008471801418819979, 'momentum': 0.9498658484197037}\n",
      "Trial 2 starts--------------------------------------------------\n",
      "\u001b[32m[I 2023-12-06 16:18:24,606]\u001b[0m Trial 2 finished with value: 0.3847029209136963 and parameters: {'lr_rate': 0.002537815508265664, 'step_size': 8, 'weight_decay': 1.2087541473056965e-06, 'momentum': 0.9869909852161994}. Best is trial 2 with value: 0.3847029209136963.\u001b[0m\n",
      "Best value: 0.3847029209136963, Best params: {'lr_rate': 0.002537815508265664, 'step_size': 8, 'weight_decay': 1.2087541473056965e-06, 'momentum': 0.9869909852161994}\n",
      "Trial 3 starts--------------------------------------------------\n",
      "\u001b[32m[I 2023-12-06 16:21:20,543]\u001b[0m Trial 3 finished with value: 0.4597086012363434 and parameters: {'lr_rate': 0.021368329072358756, 'step_size': 4, 'weight_decay': 5.337032762603957e-06, 'momentum': 0.9083404509853434}. Best is trial 3 with value: 0.4597086012363434.\u001b[0m\n",
      "Best value: 0.4597086012363434, Best params: {'lr_rate': 0.021368329072358756, 'step_size': 4, 'weight_decay': 5.337032762603957e-06, 'momentum': 0.9083404509853434}\n",
      "Elapsed time: 687.6591260433197 s\n"
     ]
    }
   ],
   "source": [
    "!python p4_3__hpo_main.py --num_epochs 1 --n_trials 4 --n_jobs 1"
   ]
  },
  {
   "cell_type": "code",
   "execution_count": 3,
   "id": "54544d27-25e1-4f7b-bc6e-82cbcc7fe953",
   "metadata": {},
   "outputs": [
    {
     "name": "stdout",
     "output_type": "stream",
     "text": [
      "/home/zhou.he1/final/p4_3__hpo_main.py:92: ExperimentalWarning: JournalStorage is experimental (supported from v3.1.0). The interface can change in the future.\n",
      "  storage = JournalStorage(JournalFileStorage(\"./journal.log\"))\n",
      "\u001b[32m[I 2023-12-06 16:21:52,028]\u001b[0m A new study created in Journal with name: no-name-48efd41c-a90f-4949-b715-5c20f9fa40a5\u001b[0m\n",
      "Trial 0 starts--------------------------------------------------\n",
      "Trial 1 starts--------------------------------------------------\n",
      "\u001b[32m[I 2023-12-06 16:27:22,839]\u001b[0m Trial 1 finished with value: 0.07415205985307693 and parameters: {'lr_rate': 6.180181477537107e-05, 'step_size': 10, 'weight_decay': 7.588359647946065e-05, 'momentum': 0.9055339556328897}. Best is trial 0 with value: 0.23213066160678864.\u001b[0m\n",
      "\u001b[32m[I 2023-12-06 16:27:22,846]\u001b[0m Trial 0 finished with value: 0.23213066160678864 and parameters: {'lr_rate': 0.0004189577568767952, 'step_size': 4, 'weight_decay': 6.28279721787581e-06, 'momentum': 0.9580243537319025}. Best is trial 0 with value: 0.23213066160678864.\u001b[0m\n",
      "Best value: 0.23213066160678864, Best params: {'lr_rate': 0.0004189577568767952, 'step_size': 4, 'weight_decay': 6.28279721787581e-06, 'momentum': 0.9580243537319025}\n",
      "Best value: 0.23213066160678864, Best params: {'lr_rate': 0.0004189577568767952, 'step_size': 4, 'weight_decay': 6.28279721787581e-06, 'momentum': 0.9580243537319025}\n",
      "Trial 2 starts--------------------------------------------------\n",
      "Trial 3 starts--------------------------------------------------\n",
      "\u001b[32m[I 2023-12-06 16:32:46,557]\u001b[0m Trial 2 finished with value: 0.426815390586853 and parameters: {'lr_rate': 0.03249346910850172, 'step_size': 4, 'weight_decay': 0.00034268246806781375, 'momentum': 0.909014224425172}. Best is trial 2 with value: 0.426815390586853.\u001b[0m\n",
      "\u001b[32m[I 2023-12-06 16:32:46,561]\u001b[0m Trial 3 finished with value: 0.2406669706106186 and parameters: {'lr_rate': 0.0003056120289060132, 'step_size': 3, 'weight_decay': 0.00042583624917344996, 'momentum': 0.9487133621411818}. Best is trial 2 with value: 0.426815390586853.\u001b[0m\n",
      "Best value: 0.426815390586853, Best params: {'lr_rate': 0.03249346910850172, 'step_size': 4, 'weight_decay': 0.00034268246806781375, 'momentum': 0.909014224425172}\n",
      "Best value: 0.426815390586853, Best params: {'lr_rate': 0.03249346910850172, 'step_size': 4, 'weight_decay': 0.00034268246806781375, 'momentum': 0.909014224425172}\n",
      "Elapsed time: 654.5371239185333 s\n"
     ]
    }
   ],
   "source": [
    "!python p4_3__hpo_main.py --num_epochs 1 --n_trials 4 --n_jobs 2"
   ]
  },
  {
   "cell_type": "code",
   "execution_count": 4,
   "id": "01f35aff-72e3-4c1d-82b7-115c7fa6d8eb",
   "metadata": {},
   "outputs": [
    {
     "name": "stdout",
     "output_type": "stream",
     "text": [
      "/home/zhou.he1/final/p4_3__hpo_main.py:92: ExperimentalWarning: JournalStorage is experimental (supported from v3.1.0). The interface can change in the future.\n",
      "  storage = JournalStorage(JournalFileStorage(\"./journal.log\"))\n",
      "\u001b[32m[I 2023-12-06 16:33:10,907]\u001b[0m A new study created in Journal with name: no-name-560a23ce-4439-488f-891c-1b4898dfa43f\u001b[0m\n",
      "Trial 0 starts--------------------------------------------------\n",
      "Trial 2 starts--------------------------------------------------\n",
      "Trial 1 starts--------------------------------------------------\n",
      "Trial 3 starts--------------------------------------------------\n",
      "\u001b[32m[I 2023-12-06 16:42:05,799]\u001b[0m Trial 0 finished with value: 0.4328477084636688 and parameters: {'lr_rate': 0.08861628758490983, 'step_size': 9, 'weight_decay': 2.1867684354798958e-06, 'momentum': 0.913927748520217}. Best is trial 0 with value: 0.4328477084636688.\u001b[0m\n",
      "Best value: 0.4328477084636688, Best params: {'lr_rate': 0.08861628758490983, 'step_size': 9, 'weight_decay': 2.1867684354798958e-06, 'momentum': 0.913927748520217}\n",
      "\u001b[32m[I 2023-12-06 16:42:40,098]\u001b[0m Trial 3 finished with value: 0.13897109031677246 and parameters: {'lr_rate': 0.00011869133785905741, 'step_size': 8, 'weight_decay': 0.001519163067912172, 'momentum': 0.9533670896041894}. Best is trial 0 with value: 0.4328477084636688.\u001b[0m\n",
      "Best value: 0.4328477084636688, Best params: {'lr_rate': 0.08861628758490983, 'step_size': 9, 'weight_decay': 2.1867684354798958e-06, 'momentum': 0.913927748520217}\n",
      "\u001b[32m[I 2023-12-06 16:43:14,811]\u001b[0m Trial 1 finished with value: 0.1242317259311676 and parameters: {'lr_rate': 0.0001377550650002669, 'step_size': 9, 'weight_decay': 0.003680831272760383, 'momentum': 0.9135915214335524}. Best is trial 0 with value: 0.4328477084636688.\u001b[0m\n",
      "Best value: 0.4328477084636688, Best params: {'lr_rate': 0.08861628758490983, 'step_size': 9, 'weight_decay': 2.1867684354798958e-06, 'momentum': 0.913927748520217}\n",
      "\u001b[32m[I 2023-12-06 16:43:37,000]\u001b[0m Trial 2 finished with value: 0.3436148464679718 and parameters: {'lr_rate': 0.008940791876151962, 'step_size': 8, 'weight_decay': 0.00037058222337817685, 'momentum': 0.8944900623015063}. Best is trial 0 with value: 0.4328477084636688.\u001b[0m\n",
      "Best value: 0.4328477084636688, Best params: {'lr_rate': 0.08861628758490983, 'step_size': 9, 'weight_decay': 2.1867684354798958e-06, 'momentum': 0.913927748520217}\n",
      "Elapsed time: 626.0966606140137 s\n"
     ]
    }
   ],
   "source": [
    "!python p4_3__hpo_main.py --num_epochs 1 --n_trials 4 --n_jobs 4"
   ]
  },
  {
   "cell_type": "code",
   "execution_count": null,
   "id": "ab2f3dd1-7ed3-4ec5-a966-57027a28f45a",
   "metadata": {},
   "outputs": [],
   "source": []
  }
 ],
 "metadata": {
  "kernelspec": {
   "display_name": "Python 3 (ipykernel)",
   "language": "python",
   "name": "python3"
  },
  "language_info": {
   "codemirror_mode": {
    "name": "ipython",
    "version": 3
   },
   "file_extension": ".py",
   "mimetype": "text/x-python",
   "name": "python",
   "nbconvert_exporter": "python",
   "pygments_lexer": "ipython3",
   "version": "3.9.12"
  }
 },
 "nbformat": 4,
 "nbformat_minor": 5
}
