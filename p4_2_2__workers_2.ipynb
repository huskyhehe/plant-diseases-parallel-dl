{
 "cells": [
  {
   "cell_type": "code",
   "execution_count": 1,
   "id": "6a6dd26f-fc20-473b-a8d5-1e3a792cfcbc",
   "metadata": {},
   "outputs": [
    {
     "name": "stdout",
     "output_type": "stream",
     "text": [
      "Mon Dec  4 17:36:26 2023       \n",
      "+---------------------------------------------------------------------------------------+\n",
      "| NVIDIA-SMI 530.30.02              Driver Version: 530.30.02    CUDA Version: 12.1     |\n",
      "|-----------------------------------------+----------------------+----------------------+\n",
      "| GPU  Name                  Persistence-M| Bus-Id        Disp.A | Volatile Uncorr. ECC |\n",
      "| Fan  Temp  Perf            Pwr:Usage/Cap|         Memory-Usage | GPU-Util  Compute M. |\n",
      "|                                         |                      |               MIG M. |\n",
      "|=========================================+======================+======================|\n",
      "|   0  Tesla P100-PCIE-12GB            Off| 00000000:03:00.0 Off |                    0 |\n",
      "| N/A   36C    P0               25W / 250W|      0MiB / 12288MiB |      1%      Default |\n",
      "|                                         |                      |                  N/A |\n",
      "+-----------------------------------------+----------------------+----------------------+\n",
      "                                                                                         \n",
      "+---------------------------------------------------------------------------------------+\n",
      "| Processes:                                                                            |\n",
      "|  GPU   GI   CI        PID   Type   Process name                            GPU Memory |\n",
      "|        ID   ID                                                             Usage      |\n",
      "|=======================================================================================|\n",
      "|  No running processes found                                                           |\n",
      "+---------------------------------------------------------------------------------------+\n"
     ]
    }
   ],
   "source": [
    "!nvidia-smi"
   ]
  },
  {
   "cell_type": "code",
   "execution_count": 2,
   "id": "563d1616-1dc7-4443-b142-84d7ad2d45a1",
   "metadata": {},
   "outputs": [
    {
     "name": "stdout",
     "output_type": "stream",
     "text": [
      "CPU:\n",
      "  CPU: Intel(R) Xeon(R) CPU E5-2680 v4 @ 2.40GHz\n",
      "  Architecture: X86_64\n",
      "CUDA available\n",
      "Running on 1 GPU(s) with 2 worker(s)---------------------\n",
      "Epoch [1/5]------------------------------------------------------------------------\n",
      "| Train Loss: 2.6379 | Train Acc: 0.3419 | Val Loss: 2.2612, Val Acc: 0.4013\n",
      "| Elapsed Time: 176.4262 s | Max GPU Memory Alloc: 1959.4707 MB\n",
      "Epoch [2/5]------------------------------------------------------------------------\n",
      "| Train Loss: 2.0147 | Train Acc: 0.4722 | Val Loss: 1.8101, Val Acc: 0.5250\n",
      "| Elapsed Time: 170.6251 s | Max GPU Memory Alloc: 1959.4722 MB\n",
      "Epoch [3/5]------------------------------------------------------------------------\n",
      "| Train Loss: 1.8259 | Train Acc: 0.5156 | Val Loss: 1.6800, Val Acc: 0.5383\n",
      "| Elapsed Time: 170.1258 s | Max GPU Memory Alloc: 1959.4731 MB\n",
      "Epoch [4/5]------------------------------------------------------------------------\n",
      "| Train Loss: 1.2214 | Train Acc: 0.6453 | Val Loss: 1.2316, Val Acc: 0.6402\n",
      "| Elapsed Time: 168.6514 s | Max GPU Memory Alloc: 1959.4741 MB\n",
      "Epoch [5/5]------------------------------------------------------------------------\n",
      "| Train Loss: 1.2085 | Train Acc: 0.6482 | Val Loss: 1.2190, Val Acc: 0.6451\n",
      "| Elapsed Time: 170.0458 s | Max GPU Memory Alloc: 1959.4751 MB\n",
      "\n",
      "total_time: 856.5915908813477\n",
      "best_valid_acc: 0.6451172319599363\n",
      "train_loss: [2.63790635148091, 2.0147399205473238, 1.825854827501865, 1.2213808214094137, 1.2085311142945516]\n",
      "train_acc: [tensor(0.3419, device='cuda:0', dtype=torch.float64), tensor(0.4722, device='cuda:0', dtype=torch.float64), tensor(0.5156, device='cuda:0', dtype=torch.float64), tensor(0.6453, device='cuda:0', dtype=torch.float64), tensor(0.6482, device='cuda:0', dtype=torch.float64)]\n",
      "valid_loss: [2.261227463416784, 1.8100944576225708, 1.6800238144050392, 1.2316015742714086, 1.2189923811889634]\n",
      "valid_acc: [tensor(0.4013, device='cuda:0', dtype=torch.float64), tensor(0.5250, device='cuda:0', dtype=torch.float64), tensor(0.5383, device='cuda:0', dtype=torch.float64), tensor(0.6402, device='cuda:0', dtype=torch.float64), tensor(0.6451, device='cuda:0', dtype=torch.float64)]\n",
      "epo_elapsed_time: [176.42615127563477, 170.62512493133545, 170.12576127052307, 168.65135216712952, 170.0457854270935]\n",
      "max_alloc: [1959.470703125, 1959.47216796875, 1959.47314453125, 1959.47412109375, 1959.47509765625]\n",
      "Figure(1200x500)\n",
      "Figure(1200x500)\n"
     ]
    }
   ],
   "source": [
    "!python p4_2_2__workers_main.py --num_workers 2 --num_epochs 5"
   ]
  },
  {
   "cell_type": "code",
   "execution_count": null,
   "id": "2c79d401-a2cf-49fa-b58e-e256f32e487c",
   "metadata": {},
   "outputs": [],
   "source": []
  }
 ],
 "metadata": {
  "kernelspec": {
   "display_name": "Python 3 (ipykernel)",
   "language": "python",
   "name": "python3"
  },
  "language_info": {
   "codemirror_mode": {
    "name": "ipython",
    "version": 3
   },
   "file_extension": ".py",
   "mimetype": "text/x-python",
   "name": "python",
   "nbconvert_exporter": "python",
   "pygments_lexer": "ipython3",
   "version": "3.9.12"
  }
 },
 "nbformat": 4,
 "nbformat_minor": 5
}
