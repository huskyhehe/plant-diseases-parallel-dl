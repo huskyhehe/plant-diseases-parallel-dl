{
 "cells": [
  {
   "cell_type": "code",
   "execution_count": 1,
   "id": "0e8e8cb6-bef4-45c8-bd3c-8fb1d2fae336",
   "metadata": {},
   "outputs": [
    {
     "name": "stdout",
     "output_type": "stream",
     "text": [
      "Wed Dec 13 02:45:13 2023       \n",
      "+---------------------------------------------------------------------------------------+\n",
      "| NVIDIA-SMI 535.104.05             Driver Version: 535.104.05   CUDA Version: 12.2     |\n",
      "|-----------------------------------------+----------------------+----------------------+\n",
      "| GPU  Name                 Persistence-M | Bus-Id        Disp.A | Volatile Uncorr. ECC |\n",
      "| Fan  Temp   Perf          Pwr:Usage/Cap |         Memory-Usage | GPU-Util  Compute M. |\n",
      "|                                         |                      |               MIG M. |\n",
      "|=========================================+======================+======================|\n",
      "|   0  NVIDIA A100-SXM4-80GB          Off | 00000000:81:00.0 Off |                    0 |\n",
      "| N/A   40C    P0              68W / 500W |      4MiB / 81920MiB |      0%      Default |\n",
      "|                                         |                      |             Disabled |\n",
      "+-----------------------------------------+----------------------+----------------------+\n",
      "                                                                                         \n",
      "+---------------------------------------------------------------------------------------+\n",
      "| Processes:                                                                            |\n",
      "|  GPU   GI   CI        PID   Type   Process name                            GPU Memory |\n",
      "|        ID   ID                                                             Usage      |\n",
      "|=======================================================================================|\n",
      "|  No running processes found                                                           |\n",
      "+---------------------------------------------------------------------------------------+\n"
     ]
    }
   ],
   "source": [
    "!nvidia-smi"
   ]
  },
  {
   "cell_type": "code",
   "execution_count": 2,
   "id": "2875851b-a99c-4a03-be0e-fcc6d08075bc",
   "metadata": {},
   "outputs": [
    {
     "name": "stdout",
     "output_type": "stream",
     "text": [
      "/home/zhou.he1/final/p4_3__hpo_main.py:98: ExperimentalWarning: JournalStorage is experimental (supported from v3.1.0). The interface can change in the future.\n",
      "  storage = JournalStorage(JournalFileStorage(\"./journal_default.log\"))\n",
      "\u001b[32m[I 2023-12-13 02:45:20,103]\u001b[0m A new study created in Journal with name: hpo_default\u001b[0m\n",
      "Trial 0 starts--------------------------------------------------\n",
      "\u001b[32m[I 2023-12-13 02:49:02,477]\u001b[0m Trial 0 finished with value: 0.23378100991249084 and parameters: {'lr_rate': 0.00031489116479568613, 'step_size': 10, 'weight_decay': 0.0008471801418819979, 'momentum': 0.9498658484197037}. Best is trial 0 with value: 0.23378100991249084.\u001b[0m\n",
      "Best value: 0.23378100991249084, Best params: {'lr_rate': 0.00031489116479568613, 'step_size': 10, 'weight_decay': 0.0008471801418819979, 'momentum': 0.9498658484197037}\n",
      "Trial 1 starts--------------------------------------------------\n",
      "\u001b[32m[I 2023-12-13 02:52:21,330]\u001b[0m Trial 1 finished with value: 0.09714318066835403 and parameters: {'lr_rate': 4.207988669606632e-05, 'step_size': 4, 'weight_decay': 1.7073967431528114e-06, 'momentum': 0.9766176145774935}. Best is trial 0 with value: 0.23378100991249084.\u001b[0m\n",
      "Best value: 0.23378100991249084, Best params: {'lr_rate': 0.00031489116479568613, 'step_size': 10, 'weight_decay': 0.0008471801418819979, 'momentum': 0.9498658484197037}\n",
      "Trial 2 starts--------------------------------------------------\n",
      "\u001b[32m[I 2023-12-13 02:55:39,138]\u001b[0m Trial 2 finished with value: 0.48987025022506714 and parameters: {'lr_rate': 0.002537815508265664, 'step_size': 8, 'weight_decay': 1.2087541473056965e-06, 'momentum': 0.9869909852161994}. Best is trial 2 with value: 0.48987025022506714.\u001b[0m\n",
      "Best value: 0.48987025022506714, Best params: {'lr_rate': 0.002537815508265664, 'step_size': 8, 'weight_decay': 1.2087541473056965e-06, 'momentum': 0.9869909852161994}\n",
      "Trial 3 starts--------------------------------------------------\n",
      "\u001b[32m[I 2023-12-13 02:59:02,808]\u001b[0m Trial 3 finished with value: 0.45350557565689087 and parameters: {'lr_rate': 0.021368329072358756, 'step_size': 4, 'weight_decay': 5.337032762603957e-06, 'momentum': 0.9083404509853434}. Best is trial 2 with value: 0.48987025022506714.\u001b[0m\n",
      "Best value: 0.48987025022506714, Best params: {'lr_rate': 0.002537815508265664, 'step_size': 8, 'weight_decay': 1.2087541473056965e-06, 'momentum': 0.9869909852161994}\n",
      "Trial 4 starts--------------------------------------------------\n",
      "\u001b[32m[I 2023-12-13 03:02:25,692]\u001b[0m Trial 4 finished with value: 0.15513315796852112 and parameters: {'lr_rate': 0.00016480446427978953, 'step_size': 7, 'weight_decay': 5.34293726127978e-05, 'momentum': 0.9191229140198042}. Best is trial 2 with value: 0.48987025022506714.\u001b[0m\n",
      "Best value: 0.48987025022506714, Best params: {'lr_rate': 0.002537815508265664, 'step_size': 8, 'weight_decay': 1.2087541473056965e-06, 'momentum': 0.9869909852161994}\n",
      "Trial 5 starts--------------------------------------------------\n",
      "\u001b[32m[I 2023-12-13 03:05:50,770]\u001b[0m Trial 5 finished with value: 0.31368085741996765 and parameters: {'lr_rate': 0.0028016351587162596, 'step_size': 4, 'weight_decay': 1.4742753159914662e-05, 'momentum': 0.9266361843293691}. Best is trial 2 with value: 0.48987025022506714.\u001b[0m\n",
      "Best value: 0.48987025022506714, Best params: {'lr_rate': 0.002537815508265664, 'step_size': 8, 'weight_decay': 1.2087541473056965e-06, 'momentum': 0.9869909852161994}\n",
      "Trial 6 starts--------------------------------------------------\n",
      "\u001b[32m[I 2023-12-13 03:09:11,952]\u001b[0m Trial 6 finished with value: 0.22513088583946228 and parameters: {'lr_rate': 0.0006672367170464204, 'step_size': 9, 'weight_decay': 6.290644294586145e-06, 'momentum': 0.9414234438413611}. Best is trial 2 with value: 0.48987025022506714.\u001b[0m\n",
      "Best value: 0.48987025022506714, Best params: {'lr_rate': 0.002537815508265664, 'step_size': 8, 'weight_decay': 1.2087541473056965e-06, 'momentum': 0.9869909852161994}\n",
      "Trial 7 starts--------------------------------------------------\n",
      "\u001b[32m[I 2023-12-13 03:12:33,509]\u001b[0m Trial 7 finished with value: 0.2748691141605377 and parameters: {'lr_rate': 0.00234238498471129, 'step_size': 3, 'weight_decay': 0.000269264691008618, 'momentum': 0.9070524123687291}. Best is trial 2 with value: 0.48987025022506714.\u001b[0m\n",
      "Best value: 0.48987025022506714, Best params: {'lr_rate': 0.002537815508265664, 'step_size': 8, 'weight_decay': 1.2087541473056965e-06, 'momentum': 0.9869909852161994}\n",
      "Elapsed time: 1633.419298171997 s\n"
     ]
    }
   ],
   "source": [
    "!python p4_3__hpo_main.py --num_epochs 1 --n_trials 8 --tasks 1"
   ]
  },
  {
   "cell_type": "code",
   "execution_count": 3,
   "id": "54544d27-25e1-4f7b-bc6e-82cbcc7fe953",
   "metadata": {},
   "outputs": [
    {
     "name": "stdout",
     "output_type": "stream",
     "text": [
      "/home/zhou.he1/final/p4_3__hpo_main.py:98: ExperimentalWarning: JournalStorage is experimental (supported from v3.1.0). The interface can change in the future.\n",
      "  storage = JournalStorage(JournalFileStorage(\"./journal_default.log\"))\n",
      "\u001b[32m[I 2023-12-13 03:12:43,190]\u001b[0m Using an existing study with name 'hpo_default' instead of creating a new one.\u001b[0m\n",
      "Trial 9 starts--------------------------------------------------\n",
      "Trial 8 starts--------------------------------------------------\n",
      "\u001b[32m[I 2023-12-13 03:16:45,775]\u001b[0m Trial 9 finished with value: 0.24641475081443787 and parameters: {'lr_rate': 0.0004967169045896546, 'step_size': 9, 'weight_decay': 2.56111625997958e-06, 'momentum': 0.9547621794157151}. Best is trial 2 with value: 0.48987025022506714.\u001b[0m\n",
      "\u001b[32m[I 2023-12-13 03:16:45,776]\u001b[0m Trial 8 finished with value: 0.22461870312690735 and parameters: {'lr_rate': 0.0009730352362767879, 'step_size': 4, 'weight_decay': 1.6916494064565604e-06, 'momentum': 0.9300382386254432}. Best is trial 2 with value: 0.48987025022506714.\u001b[0m\n",
      "Best value: 0.48987025022506714, Best params: {'lr_rate': 0.002537815508265664, 'step_size': 8, 'weight_decay': 1.2087541473056965e-06, 'momentum': 0.9869909852161994}\n",
      "Best value: 0.48987025022506714, Best params: {'lr_rate': 0.002537815508265664, 'step_size': 8, 'weight_decay': 1.2087541473056965e-06, 'momentum': 0.9869909852161994}\n",
      "Trial 10 starts--------------------------------------------------\n",
      "Trial 11 starts--------------------------------------------------\n",
      "\u001b[32m[I 2023-12-13 03:20:42,194]\u001b[0m Trial 11 finished with value: 0.09492374211549759 and parameters: {'lr_rate': 0.06188250979043413, 'step_size': 7, 'weight_decay': 0.004319754995289354, 'momentum': 0.9872519726997963}. Best is trial 2 with value: 0.48987025022506714.\u001b[0m\n",
      "\u001b[32m[I 2023-12-13 03:20:42,197]\u001b[0m Trial 10 finished with value: 0.33672887086868286 and parameters: {'lr_rate': 0.09530475051998606, 'step_size': 7, 'weight_decay': 2.7641853750261803e-05, 'momentum': 0.9883789695065668}. Best is trial 2 with value: 0.48987025022506714.\u001b[0m\n",
      "Best value: 0.48987025022506714, Best params: {'lr_rate': 0.002537815508265664, 'step_size': 8, 'weight_decay': 1.2087541473056965e-06, 'momentum': 0.9869909852161994}\n",
      "Best value: 0.48987025022506714, Best params: {'lr_rate': 0.002537815508265664, 'step_size': 8, 'weight_decay': 1.2087541473056965e-06, 'momentum': 0.9869909852161994}\n",
      "Trial 12 starts--------------------------------------------------\n",
      "Trial 13 starts--------------------------------------------------\n",
      "\u001b[32m[I 2023-12-13 03:24:35,779]\u001b[0m Trial 12 finished with value: 0.437002032995224 and parameters: {'lr_rate': 0.012083778983210454, 'step_size': 6, 'weight_decay': 6.426466823983862e-06, 'momentum': 0.9042098226263748}. Best is trial 2 with value: 0.48987025022506714.\u001b[0m\n",
      "\u001b[32m[I 2023-12-13 03:24:35,780]\u001b[0m Trial 13 finished with value: 0.4199294149875641 and parameters: {'lr_rate': 0.012704747820873337, 'step_size': 6, 'weight_decay': 7.921822034897574e-06, 'momentum': 0.9029185853993081}. Best is trial 2 with value: 0.48987025022506714.\u001b[0m\n",
      "Best value: 0.48987025022506714, Best params: {'lr_rate': 0.002537815508265664, 'step_size': 8, 'weight_decay': 1.2087541473056965e-06, 'momentum': 0.9869909852161994}\n",
      "Best value: 0.48987025022506714, Best params: {'lr_rate': 0.002537815508265664, 'step_size': 8, 'weight_decay': 1.2087541473056965e-06, 'momentum': 0.9869909852161994}\n",
      "Trial 14 starts--------------------------------------------------\n",
      "Trial 15 starts--------------------------------------------------\n",
      "\u001b[32m[I 2023-12-13 03:28:37,332]\u001b[0m Trial 15 finished with value: 0.3878898024559021 and parameters: {'lr_rate': 0.010549600229447322, 'step_size': 8, 'weight_decay': 7.220892175139819e-05, 'momentum': 0.8929939753599321}. Best is trial 2 with value: 0.48987025022506714.\u001b[0m\n",
      "\u001b[32m[I 2023-12-13 03:28:37,334]\u001b[0m Trial 14 finished with value: 0.4659685790538788 and parameters: {'lr_rate': 0.009032741145190324, 'step_size': 8, 'weight_decay': 1.1144974819925612e-06, 'momentum': 0.9672312185157655}. Best is trial 2 with value: 0.48987025022506714.\u001b[0m\n",
      "Best value: 0.48987025022506714, Best params: {'lr_rate': 0.002537815508265664, 'step_size': 8, 'weight_decay': 1.2087541473056965e-06, 'momentum': 0.9869909852161994}\n",
      "Best value: 0.48987025022506714, Best params: {'lr_rate': 0.002537815508265664, 'step_size': 8, 'weight_decay': 1.2087541473056965e-06, 'momentum': 0.9869909852161994}\n",
      "Elapsed time: 954.1966986656189 s\n"
     ]
    }
   ],
   "source": [
    "!python p4_3__hpo_main.py --num_epochs 1 --n_trials 8 --tasks 2"
   ]
  },
  {
   "cell_type": "code",
   "execution_count": 4,
   "id": "01f35aff-72e3-4c1d-82b7-115c7fa6d8eb",
   "metadata": {},
   "outputs": [
    {
     "name": "stdout",
     "output_type": "stream",
     "text": [
      "/home/zhou.he1/final/p4_3__hpo_main.py:98: ExperimentalWarning: JournalStorage is experimental (supported from v3.1.0). The interface can change in the future.\n",
      "  storage = JournalStorage(JournalFileStorage(\"./journal_default.log\"))\n",
      "\u001b[32m[I 2023-12-13 03:28:44,944]\u001b[0m Using an existing study with name 'hpo_default' instead of creating a new one.\u001b[0m\n",
      "Trial 17 starts--------------------------------------------------\n",
      "Trial 16 starts--------------------------------------------------\n",
      "Trial 18 starts--------------------------------------------------\n",
      "Trial 19 starts--------------------------------------------------\n",
      "\u001b[32m[I 2023-12-13 03:33:46,613]\u001b[0m Trial 16 finished with value: 0.4004097282886505 and parameters: {'lr_rate': 0.0040473669044352786, 'step_size': 8, 'weight_decay': 1.26459210675427e-06, 'momentum': 0.9677997220118029}. Best is trial 2 with value: 0.48987025022506714.\u001b[0m\n",
      "\u001b[32m[I 2023-12-13 03:33:46,616]\u001b[0m Trial 18 finished with value: 0.3822558522224426 and parameters: {'lr_rate': 0.002973802689604114, 'step_size': 8, 'weight_decay': 1.0583532948774227e-06, 'momentum': 0.9678846732106661}. Best is trial 2 with value: 0.48987025022506714.\u001b[0m\n",
      "\u001b[32m[I 2023-12-13 03:33:46,617]\u001b[0m Trial 19 finished with value: 0.42396995425224304 and parameters: {'lr_rate': 0.004762449032979546, 'step_size': 8, 'weight_decay': 1.0174310335208222e-06, 'momentum': 0.9722324834431397}. Best is trial 2 with value: 0.48987025022506714.\u001b[0m\n",
      "\u001b[32m[I 2023-12-13 03:33:46,617]\u001b[0m Trial 17 finished with value: 0.374117910861969 and parameters: {'lr_rate': 0.0025791525238184733, 'step_size': 8, 'weight_decay': 1.621741405550639e-06, 'momentum': 0.9657919051330742}. Best is trial 2 with value: 0.48987025022506714.\u001b[0m\n",
      "Best value: 0.48987025022506714, Best params: {'lr_rate': 0.002537815508265664, 'step_size': 8, 'weight_decay': 1.2087541473056965e-06, 'momentum': 0.9869909852161994}\n",
      "Best value: 0.48987025022506714, Best params: {'lr_rate': 0.002537815508265664, 'step_size': 8, 'weight_decay': 1.2087541473056965e-06, 'momentum': 0.9869909852161994}\n",
      "Best value: 0.48987025022506714, Best params: {'lr_rate': 0.002537815508265664, 'step_size': 8, 'weight_decay': 1.2087541473056965e-06, 'momentum': 0.9869909852161994}\n",
      "Best value: 0.48987025022506714, Best params: {'lr_rate': 0.002537815508265664, 'step_size': 8, 'weight_decay': 1.2087541473056965e-06, 'momentum': 0.9869909852161994}\n",
      "Trial 20 starts--------------------------------------------------\n",
      "Trial 21 starts--------------------------------------------------\n",
      "Trial 22 starts--------------------------------------------------\n",
      "Trial 23 starts--------------------------------------------------\n",
      "\u001b[32m[I 2023-12-13 03:38:36,570]\u001b[0m Trial 23 finished with value: 0.4232301414012909 and parameters: {'lr_rate': 0.0324302538306241, 'step_size': 10, 'weight_decay': 1.942349209362293e-05, 'momentum': 0.98079299184787}. Best is trial 2 with value: 0.48987025022506714.\u001b[0m\n",
      "\u001b[32m[I 2023-12-13 03:38:36,570]\u001b[0m Trial 21 finished with value: 0.05810379981994629 and parameters: {'lr_rate': 1.3250290828824719e-05, 'step_size': 10, 'weight_decay': 1.663538450180328e-05, 'momentum': 0.9827918864346268}. Best is trial 2 with value: 0.48987025022506714.\u001b[0m\n",
      "\u001b[32m[I 2023-12-13 03:38:36,571]\u001b[0m Trial 22 finished with value: 0.36108580231666565 and parameters: {'lr_rate': 0.0014656892743525622, 'step_size': 10, 'weight_decay': 1.608795895078738e-05, 'momentum': 0.9820525208985853}. Best is trial 2 with value: 0.48987025022506714.\u001b[0m\n",
      "\u001b[32m[I 2023-12-13 03:38:36,572]\u001b[0m Trial 20 finished with value: 0.05639654025435448 and parameters: {'lr_rate': 1.187740770377478e-05, 'step_size': 10, 'weight_decay': 1.616538467163922e-05, 'momentum': 0.9797169015971917}. Best is trial 2 with value: 0.48987025022506714.\u001b[0m\n",
      "Best value: 0.48987025022506714, Best params: {'lr_rate': 0.002537815508265664, 'step_size': 8, 'weight_decay': 1.2087541473056965e-06, 'momentum': 0.9869909852161994}\n",
      "Best value: 0.48987025022506714, Best params: {'lr_rate': 0.002537815508265664, 'step_size': 8, 'weight_decay': 1.2087541473056965e-06, 'momentum': 0.9869909852161994}\n",
      "Best value: 0.48987025022506714, Best params: {'lr_rate': 0.002537815508265664, 'step_size': 8, 'weight_decay': 1.2087541473056965e-06, 'momentum': 0.9869909852161994}\n",
      "Best value: 0.48987025022506714, Best params: {'lr_rate': 0.002537815508265664, 'step_size': 8, 'weight_decay': 1.2087541473056965e-06, 'momentum': 0.9869909852161994}\n",
      "Elapsed time: 591.6575014591217 s\n"
     ]
    }
   ],
   "source": [
    "!python p4_3__hpo_main.py --num_epochs 1 --n_trials 8 --tasks 4"
   ]
  },
  {
   "cell_type": "code",
   "execution_count": 5,
   "id": "ab2f3dd1-7ed3-4ec5-a966-57027a28f45a",
   "metadata": {},
   "outputs": [
    {
     "name": "stdout",
     "output_type": "stream",
     "text": [
      "/home/zhou.he1/final/p4_3__hpo_main.py:98: ExperimentalWarning: JournalStorage is experimental (supported from v3.1.0). The interface can change in the future.\n",
      "  storage = JournalStorage(JournalFileStorage(\"./journal_default.log\"))\n",
      "\u001b[32m[I 2023-12-13 03:38:44,490]\u001b[0m Using an existing study with name 'hpo_default' instead of creating a new one.\u001b[0m\n",
      "Trial 25 starts--------------------------------------------------\n",
      "Trial 26 starts--------------------------------------------------\n",
      "Trial 24 starts--------------------------------------------------\n",
      "Trial 27 starts--------------------------------------------------\n",
      "Trial 28 starts--------------------------------------------------\n",
      "Trial 29 starts--------------------------------------------------\n",
      "Trial 30 starts--------------------------------------------------\n",
      "Trial 31 starts--------------------------------------------------\n",
      "\u001b[32m[I 2023-12-13 03:47:09,112]\u001b[0m Trial 28 finished with value: 0.3988162875175476 and parameters: {'lr_rate': 0.02285448494761587, 'step_size': 5, 'weight_decay': 3.842158752060585e-06, 'momentum': 0.9605107431168003}. Best is trial 2 with value: 0.48987025022506714.\u001b[0m\n",
      "\u001b[32m[I 2023-12-13 03:47:09,113]\u001b[0m Trial 31 finished with value: 0.4491805136203766 and parameters: {'lr_rate': 0.030828303382380094, 'step_size': 5, 'weight_decay': 3.5981533469337565e-06, 'momentum': 0.9561435179177684}. Best is trial 2 with value: 0.48987025022506714.\u001b[0m\n",
      "\u001b[32m[I 2023-12-13 03:47:09,115]\u001b[0m Trial 30 finished with value: 0.42220577597618103 and parameters: {'lr_rate': 0.024718784492290643, 'step_size': 5, 'weight_decay': 3.933849607036536e-06, 'momentum': 0.9628669341528787}. Best is trial 2 with value: 0.48987025022506714.\u001b[0m\n",
      "\u001b[32m[I 2023-12-13 03:47:09,116]\u001b[0m Trial 29 finished with value: 0.4877646267414093 and parameters: {'lr_rate': 0.030334893503357347, 'step_size': 5, 'weight_decay': 3.1648987993747693e-06, 'momentum': 0.9606276581194493}. Best is trial 2 with value: 0.48987025022506714.\u001b[0m\n",
      "Best value: 0.48987025022506714, Best params: {'lr_rate': 0.002537815508265664, 'step_size': 8, 'weight_decay': 1.2087541473056965e-06, 'momentum': 0.9869909852161994}\n",
      "Best value: 0.48987025022506714, Best params: {'lr_rate': 0.002537815508265664, 'step_size': 8, 'weight_decay': 1.2087541473056965e-06, 'momentum': 0.9869909852161994}\n",
      "Best value: 0.48987025022506714, Best params: {'lr_rate': 0.002537815508265664, 'step_size': 8, 'weight_decay': 1.2087541473056965e-06, 'momentum': 0.9869909852161994}\n",
      "Best value: 0.48987025022506714, Best params: {'lr_rate': 0.002537815508265664, 'step_size': 8, 'weight_decay': 1.2087541473056965e-06, 'momentum': 0.9869909852161994}\n",
      "\u001b[32m[I 2023-12-13 03:47:09,743]\u001b[0m Trial 25 finished with value: 0.44405871629714966 and parameters: {'lr_rate': 0.03402032535238466, 'step_size': 5, 'weight_decay': 4.2736088554112596e-06, 'momentum': 0.9598654837110295}. Best is trial 2 with value: 0.48987025022506714.\u001b[0m\n",
      "Best value: 0.48987025022506714, Best params: {'lr_rate': 0.002537815508265664, 'step_size': 8, 'weight_decay': 1.2087541473056965e-06, 'momentum': 0.9869909852161994}\n",
      "\u001b[32m[I 2023-12-13 03:47:12,015]\u001b[0m Trial 27 finished with value: 0.4557250142097473 and parameters: {'lr_rate': 0.03455532397464764, 'step_size': 5, 'weight_decay': 3.3740021432279442e-06, 'momentum': 0.9584680642339357}. Best is trial 2 with value: 0.48987025022506714.\u001b[0m\n",
      "Best value: 0.48987025022506714, Best params: {'lr_rate': 0.002537815508265664, 'step_size': 8, 'weight_decay': 1.2087541473056965e-06, 'momentum': 0.9869909852161994}\n",
      "\u001b[32m[I 2023-12-13 03:47:12,171]\u001b[0m Trial 24 finished with value: 0.4108240306377411 and parameters: {'lr_rate': 0.022586976060788057, 'step_size': 5, 'weight_decay': 3.195012205889873e-06, 'momentum': 0.9899352123593669}. Best is trial 2 with value: 0.48987025022506714.\u001b[0m\n",
      "Best value: 0.48987025022506714, Best params: {'lr_rate': 0.002537815508265664, 'step_size': 8, 'weight_decay': 1.2087541473056965e-06, 'momentum': 0.9869909852161994}\n",
      "\u001b[32m[I 2023-12-13 03:47:12,826]\u001b[0m Trial 26 finished with value: 0.428977906703949 and parameters: {'lr_rate': 0.0320198988535409, 'step_size': 5, 'weight_decay': 3.3862562914312745e-06, 'momentum': 0.9575855392230819}. Best is trial 2 with value: 0.48987025022506714.\u001b[0m\n",
      "Best value: 0.48987025022506714, Best params: {'lr_rate': 0.002537815508265664, 'step_size': 8, 'weight_decay': 1.2087541473056965e-06, 'momentum': 0.9869909852161994}\n",
      "Elapsed time: 508.36329221725464 s\n"
     ]
    }
   ],
   "source": [
    "!python p4_3__hpo_main.py --num_epochs 1 --n_trials 8 --tasks 8"
   ]
  }
 ],
 "metadata": {
  "kernelspec": {
   "display_name": "Python 3 (ipykernel)",
   "language": "python",
   "name": "python3"
  },
  "language_info": {
   "codemirror_mode": {
    "name": "ipython",
    "version": 3
   },
   "file_extension": ".py",
   "mimetype": "text/x-python",
   "name": "python",
   "nbconvert_exporter": "python",
   "pygments_lexer": "ipython3",
   "version": "3.9.12"
  }
 },
 "nbformat": 4,
 "nbformat_minor": 5
}
