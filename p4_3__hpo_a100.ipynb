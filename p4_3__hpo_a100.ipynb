{
 "cells": [
  {
   "cell_type": "code",
   "execution_count": 1,
   "id": "0e8e8cb6-bef4-45c8-bd3c-8fb1d2fae336",
   "metadata": {},
   "outputs": [
    {
     "name": "stdout",
     "output_type": "stream",
     "text": [
      "Wed Dec 13 01:32:50 2023       \n",
      "+---------------------------------------------------------------------------------------+\n",
      "| NVIDIA-SMI 535.104.05             Driver Version: 535.104.05   CUDA Version: 12.2     |\n",
      "|-----------------------------------------+----------------------+----------------------+\n",
      "| GPU  Name                 Persistence-M | Bus-Id        Disp.A | Volatile Uncorr. ECC |\n",
      "| Fan  Temp   Perf          Pwr:Usage/Cap |         Memory-Usage | GPU-Util  Compute M. |\n",
      "|                                         |                      |               MIG M. |\n",
      "|=========================================+======================+======================|\n",
      "|   0  NVIDIA A100-SXM4-80GB          Off | 00000000:81:00.0 Off |                    0 |\n",
      "| N/A   39C    P0              59W / 500W |      4MiB / 81920MiB |      0%      Default |\n",
      "|                                         |                      |             Disabled |\n",
      "+-----------------------------------------+----------------------+----------------------+\n",
      "                                                                                         \n",
      "+---------------------------------------------------------------------------------------+\n",
      "| Processes:                                                                            |\n",
      "|  GPU   GI   CI        PID   Type   Process name                            GPU Memory |\n",
      "|        ID   ID                                                             Usage      |\n",
      "|=======================================================================================|\n",
      "|  No running processes found                                                           |\n",
      "+---------------------------------------------------------------------------------------+\n"
     ]
    }
   ],
   "source": [
    "!nvidia-smi"
   ]
  },
  {
   "cell_type": "code",
   "execution_count": 2,
   "id": "2875851b-a99c-4a03-be0e-fcc6d08075bc",
   "metadata": {},
   "outputs": [
    {
     "name": "stdout",
     "output_type": "stream",
     "text": [
      "/home/zhou.he1/final/p4_3__hpo_main.py:98: ExperimentalWarning: JournalStorage is experimental (supported from v3.1.0). The interface can change in the future.\n",
      "  storage = JournalStorage(JournalFileStorage(\"./journal_default.log\"))\n",
      "\u001b[32m[I 2023-12-13 01:32:56,732]\u001b[0m A new study created in Journal with name: hpo_default\u001b[0m\n",
      "Trial 0 starts--------------------------------------------------\n",
      "\u001b[32m[I 2023-12-13 01:36:53,425]\u001b[0m Trial 0 finished with value: 0.19804233312606812 and parameters: {'lr_rate': 0.00031489116479568613, 'step_size': 10, 'weight_decay': 0.0008471801418819979, 'momentum': 0.9498658484197037}. Best is trial 0 with value: 0.19804233312606812.\u001b[0m\n",
      "Best value: 0.19804233312606812, Best params: {'lr_rate': 0.00031489116479568613, 'step_size': 10, 'weight_decay': 0.0008471801418819979, 'momentum': 0.9498658484197037}\n",
      "Trial 1 starts--------------------------------------------------\n",
      "\u001b[32m[I 2023-12-13 01:40:21,534]\u001b[0m Trial 1 finished with value: 0.12502844631671906 and parameters: {'lr_rate': 4.207988669606632e-05, 'step_size': 4, 'weight_decay': 1.7073967431528114e-06, 'momentum': 0.9766176145774935}. Best is trial 0 with value: 0.19804233312606812.\u001b[0m\n",
      "Best value: 0.19804233312606812, Best params: {'lr_rate': 0.00031489116479568613, 'step_size': 10, 'weight_decay': 0.0008471801418819979, 'momentum': 0.9498658484197037}\n",
      "Trial 2 starts--------------------------------------------------\n",
      "\u001b[32m[I 2023-12-13 01:43:50,301]\u001b[0m Trial 2 finished with value: 0.41338491439819336 and parameters: {'lr_rate': 0.002537815508265664, 'step_size': 8, 'weight_decay': 1.2087541473056965e-06, 'momentum': 0.9869909852161994}. Best is trial 2 with value: 0.41338491439819336.\u001b[0m\n",
      "Best value: 0.41338491439819336, Best params: {'lr_rate': 0.002537815508265664, 'step_size': 8, 'weight_decay': 1.2087541473056965e-06, 'momentum': 0.9869909852161994}\n",
      "Trial 3 starts--------------------------------------------------\n",
      "\u001b[32m[I 2023-12-13 01:47:14,681]\u001b[0m Trial 3 finished with value: 0.464432030916214 and parameters: {'lr_rate': 0.021368329072358756, 'step_size': 4, 'weight_decay': 5.337032762603957e-06, 'momentum': 0.9083404509853434}. Best is trial 3 with value: 0.464432030916214.\u001b[0m\n",
      "Best value: 0.464432030916214, Best params: {'lr_rate': 0.021368329072358756, 'step_size': 4, 'weight_decay': 5.337032762603957e-06, 'momentum': 0.9083404509853434}\n",
      "Elapsed time: 857.9663715362549 s\n"
     ]
    }
   ],
   "source": [
    "!python p4_3__hpo_main.py --num_epochs 1 --n_trials 4 --tasks 1"
   ]
  },
  {
   "cell_type": "code",
   "execution_count": 3,
   "id": "54544d27-25e1-4f7b-bc6e-82cbcc7fe953",
   "metadata": {},
   "outputs": [
    {
     "name": "stdout",
     "output_type": "stream",
     "text": [
      "/home/zhou.he1/final/p4_3__hpo_main.py:98: ExperimentalWarning: JournalStorage is experimental (supported from v3.1.0). The interface can change in the future.\n",
      "  storage = JournalStorage(JournalFileStorage(\"./journal_default.log\"))\n",
      "\u001b[32m[I 2023-12-13 01:47:21,078]\u001b[0m Using an existing study with name 'hpo_default' instead of creating a new one.\u001b[0m\n",
      "Trial 4 starts--------------------------------------------------\n",
      "Trial 5 starts--------------------------------------------------\n",
      "\u001b[32m[I 2023-12-13 01:51:40,335]\u001b[0m Trial 4 finished with value: 0.2975756824016571 and parameters: {'lr_rate': 0.000489269781761026, 'step_size': 7, 'weight_decay': 2.0195361998407137e-06, 'momentum': 0.9808073808043234}. Best is trial 3 with value: 0.464432030916214.\u001b[0m\n",
      "\u001b[32m[I 2023-12-13 01:51:40,337]\u001b[0m Trial 5 finished with value: 0.28602319955825806 and parameters: {'lr_rate': 0.0015617592049105538, 'step_size': 8, 'weight_decay': 3.3408711522859296e-06, 'momentum': 0.9422439165742803}. Best is trial 3 with value: 0.464432030916214.\u001b[0m\n",
      "Best value: 0.464432030916214, Best params: {'lr_rate': 0.021368329072358756, 'step_size': 4, 'weight_decay': 5.337032762603957e-06, 'momentum': 0.9083404509853434}\n",
      "Best value: 0.464432030916214, Best params: {'lr_rate': 0.021368329072358756, 'step_size': 4, 'weight_decay': 5.337032762603957e-06, 'momentum': 0.9083404509853434}\n",
      "Trial 6 starts--------------------------------------------------\n",
      "Trial 7 starts--------------------------------------------------\n",
      "\u001b[32m[I 2023-12-13 01:55:33,021]\u001b[0m Trial 7 finished with value: 0.4018893539905548 and parameters: {'lr_rate': 0.0009988186038145225, 'step_size': 6, 'weight_decay': 7.253241352172382e-05, 'momentum': 0.9857956930394138}. Best is trial 3 with value: 0.464432030916214.\u001b[0m\n",
      "\u001b[32m[I 2023-12-13 01:55:33,022]\u001b[0m Trial 6 finished with value: 0.12076029926538467 and parameters: {'lr_rate': 0.00016411074360849048, 'step_size': 10, 'weight_decay': 5.746399640602503e-05, 'momentum': 0.8908902393862163}. Best is trial 3 with value: 0.464432030916214.\u001b[0m\n",
      "Best value: 0.464432030916214, Best params: {'lr_rate': 0.021368329072358756, 'step_size': 4, 'weight_decay': 5.337032762603957e-06, 'momentum': 0.9083404509853434}\n",
      "Best value: 0.464432030916214, Best params: {'lr_rate': 0.021368329072358756, 'step_size': 4, 'weight_decay': 5.337032762603957e-06, 'momentum': 0.9083404509853434}\n",
      "Elapsed time: 491.9543778896332 s\n"
     ]
    }
   ],
   "source": [
    "!python p4_3__hpo_main.py --num_epochs 1 --n_trials 4 --tasks 2"
   ]
  },
  {
   "cell_type": "code",
   "execution_count": 4,
   "id": "01f35aff-72e3-4c1d-82b7-115c7fa6d8eb",
   "metadata": {},
   "outputs": [
    {
     "name": "stdout",
     "output_type": "stream",
     "text": [
      "/home/zhou.he1/final/p4_3__hpo_main.py:98: ExperimentalWarning: JournalStorage is experimental (supported from v3.1.0). The interface can change in the future.\n",
      "  storage = JournalStorage(JournalFileStorage(\"./journal_default.log\"))\n",
      "\u001b[32m[I 2023-12-13 01:55:41,186]\u001b[0m Using an existing study with name 'hpo_default' instead of creating a new one.\u001b[0m\n",
      "Trial 9 starts--------------------------------------------------\n",
      "Trial 8 starts--------------------------------------------------\n",
      "Trial 10 starts--------------------------------------------------\n",
      "Trial 11 starts--------------------------------------------------\n",
      "\u001b[32m[I 2023-12-13 02:00:53,391]\u001b[0m Trial 8 finished with value: 0.45009103417396545 and parameters: {'lr_rate': 0.023908229328466295, 'step_size': 5, 'weight_decay': 3.459599629697322e-05, 'momentum': 0.9053426981240271}. Best is trial 3 with value: 0.464432030916214.\u001b[0m\n",
      "\u001b[32m[I 2023-12-13 02:00:53,395]\u001b[0m Trial 9 finished with value: 0.12201228737831116 and parameters: {'lr_rate': 0.0002507705892596306, 'step_size': 7, 'weight_decay': 0.0012057691534899514, 'momentum': 0.8900133952511395}. Best is trial 3 with value: 0.464432030916214.\u001b[0m\n",
      "\u001b[32m[I 2023-12-13 02:00:53,396]\u001b[0m Trial 10 finished with value: 0.28716138005256653 and parameters: {'lr_rate': 0.000225491773400704, 'step_size': 3, 'weight_decay': 3.5164825352662826e-06, 'momentum': 0.9804023507938702}. Best is trial 3 with value: 0.464432030916214.\u001b[0m\n",
      "\u001b[32m[I 2023-12-13 02:00:53,397]\u001b[0m Trial 11 finished with value: 0.37673571705818176 and parameters: {'lr_rate': 0.001615061569964119, 'step_size': 10, 'weight_decay': 0.00065225442310337, 'momentum': 0.9727335262621575}. Best is trial 3 with value: 0.464432030916214.\u001b[0m\n",
      "Best value: 0.464432030916214, Best params: {'lr_rate': 0.021368329072358756, 'step_size': 4, 'weight_decay': 5.337032762603957e-06, 'momentum': 0.9083404509853434}\n",
      "Best value: 0.464432030916214, Best params: {'lr_rate': 0.021368329072358756, 'step_size': 4, 'weight_decay': 5.337032762603957e-06, 'momentum': 0.9083404509853434}\n",
      "Best value: 0.464432030916214, Best params: {'lr_rate': 0.021368329072358756, 'step_size': 4, 'weight_decay': 5.337032762603957e-06, 'momentum': 0.9083404509853434}\n",
      "Best value: 0.464432030916214, Best params: {'lr_rate': 0.021368329072358756, 'step_size': 4, 'weight_decay': 5.337032762603957e-06, 'momentum': 0.9083404509853434}\n",
      "Elapsed time: 312.23424673080444 s\n"
     ]
    }
   ],
   "source": [
    "!python p4_3__hpo_main.py --num_epochs 1 --n_trials 4 --tasks 4"
   ]
  },
  {
   "cell_type": "code",
   "execution_count": null,
   "id": "ab2f3dd1-7ed3-4ec5-a966-57027a28f45a",
   "metadata": {},
   "outputs": [],
   "source": []
  }
 ],
 "metadata": {
  "kernelspec": {
   "display_name": "Python 3 (ipykernel)",
   "language": "python",
   "name": "python3"
  },
  "language_info": {
   "codemirror_mode": {
    "name": "ipython",
    "version": 3
   },
   "file_extension": ".py",
   "mimetype": "text/x-python",
   "name": "python",
   "nbconvert_exporter": "python",
   "pygments_lexer": "ipython3",
   "version": "3.9.12"
  }
 },
 "nbformat": 4,
 "nbformat_minor": 5
}
